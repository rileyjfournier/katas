{
 "cells": [
  {
   "cell_type": "markdown",
   "id": "0dc21930-e421-4e15-b01a-b3934e6022c4",
   "metadata": {
    "tags": []
   },
   "source": [
    "## Kata 1 - Sum the Largest Numbers"
   ]
  },
  {
   "cell_type": "code",
   "execution_count": 4,
   "id": "a8f63128-374b-4d35-b4fd-9e7b83e1ac3a",
   "metadata": {},
   "outputs": [],
   "source": [
    "def sumLargestNumbers(arr):\n",
    "    return sum(sorted(arr)[-2:])"
   ]
  },
  {
   "cell_type": "code",
   "execution_count": 5,
   "id": "6a56c213-d748-480d-855c-805a6846d1ad",
   "metadata": {},
   "outputs": [
    {
     "name": "stdout",
     "output_type": "stream",
     "text": [
      "11\n",
      "5\n",
      "126\n"
     ]
    }
   ],
   "source": [
    "print(sumLargestNumbers([1, 10]))\n",
    "print(sumLargestNumbers([1, 2, 3]))\n",
    "print(sumLargestNumbers([10, 4, 34, 6, 92, 2]))"
   ]
  },
  {
   "cell_type": "markdown",
   "id": "1f7edc10-b9c8-4015-a820-c4ddde17b3f6",
   "metadata": {},
   "source": [
    "***"
   ]
  },
  {
   "cell_type": "markdown",
   "id": "696917a1-e1ec-4741-b88d-bf9640df6dfe",
   "metadata": {},
   "source": [
    "## Kata 2 - Conditional Sums"
   ]
  },
  {
   "cell_type": "code",
   "execution_count": 12,
   "id": "1e2f72da-03c5-4f48-8aec-9f5586f12f83",
   "metadata": {},
   "outputs": [],
   "source": [
    "def conditionalSum(values, condition):\n",
    "    total = 0\n",
    "    if condition == \"even\":\n",
    "        for num in values:\n",
    "            if num % 2 == 0:\n",
    "                total += num\n",
    "    else:\n",
    "        for num in values:\n",
    "            if num % 2 != 0:\n",
    "                total += num\n",
    "    \n",
    "    return total        "
   ]
  },
  {
   "cell_type": "code",
   "execution_count": 13,
   "id": "57df34b4-aa27-40bf-8dd1-70e665b12eac",
   "metadata": {},
   "outputs": [
    {
     "name": "stdout",
     "output_type": "stream",
     "text": [
      "6\n",
      "9\n",
      "144\n",
      "0\n"
     ]
    }
   ],
   "source": [
    "print(conditionalSum([1,2,3,4,5], \"even\"))\n",
    "print(conditionalSum([1,2,3,4,5], \"odd\"))\n",
    "print(conditionalSum([13,88,12,44,99], \"even\"))\n",
    "print(conditionalSum([], \"odd\"))"
   ]
  },
  {
   "cell_type": "markdown",
   "id": "b8812886-b749-4be9-a047-44114ec7220a",
   "metadata": {},
   "source": [
    "***"
   ]
  },
  {
   "cell_type": "markdown",
   "id": "f3bef7f8-1188-4395-8114-3378b7bce83a",
   "metadata": {},
   "source": [
    "## Kata 3 - Vowels"
   ]
  },
  {
   "cell_type": "code",
   "execution_count": 19,
   "id": "ab3cf784-621c-4e5f-890d-19f9928f852a",
   "metadata": {},
   "outputs": [],
   "source": [
    "def numberOfVowels(data):\n",
    "    vowels = 'aeiou'\n",
    "    total = 0\n",
    "    for letter in data:\n",
    "        for vowel in vowels:\n",
    "            if vowel == letter:\n",
    "                total += 1\n",
    "                \n",
    "    return total"
   ]
  },
  {
   "cell_type": "code",
   "execution_count": 20,
   "id": "2828e503-a663-4c2b-89dc-dc844e92116a",
   "metadata": {},
   "outputs": [
    {
     "name": "stdout",
     "output_type": "stream",
     "text": [
      "3\n",
      "5\n",
      "5\n"
     ]
    }
   ],
   "source": [
    "print(numberOfVowels(\"orange\"))\n",
    "print(numberOfVowels(\"lighthouse labs\"))\n",
    "print(numberOfVowels(\"aeiou\"))"
   ]
  },
  {
   "cell_type": "markdown",
   "id": "baa7970c-3ae5-4f7e-8087-752f55092077",
   "metadata": {},
   "source": [
    "***"
   ]
  },
  {
   "cell_type": "markdown",
   "id": "1b1d4fc8-fb2b-4bac-94c4-5d95ed288565",
   "metadata": {},
   "source": [
    "## Kata 4 - Instructors Names"
   ]
  },
  {
   "cell_type": "code",
   "execution_count": 72,
   "id": "dc8c3472-9604-49a3-b271-3ae1528b519b",
   "metadata": {},
   "outputs": [],
   "source": [
    "def instructorWithLongestName(instructors):\n",
    "    longestName = instructors[0]\n",
    "    index = 0\n",
    "    for instructor in instructors:\n",
    "        if len(instructors[index][\"name\"]) > len(longestName[\"name\"]):\n",
    "            longestName = instructors[index]\n",
    "        index += 1\n",
    "            \n",
    "    return longestName"
   ]
  },
  {
   "cell_type": "code",
   "execution_count": 73,
   "id": "308b72a7-19c2-442c-a29d-d19a49722458",
   "metadata": {},
   "outputs": [
    {
     "name": "stdout",
     "output_type": "stream",
     "text": [
      "{'name': 'Jeremiah', 'course': 'Data'}\n",
      "{'name': 'Damascus', 'course': 'Web'}\n"
     ]
    }
   ],
   "source": [
    "print(instructorWithLongestName([\n",
    "    {\"name\": \"Samuel\", \"course\": \"iOS\"},\n",
    "    {\"name\": \"Jeremiah\", \"course\": \"Data\"},\n",
    "    {\"name\": \"Ophilia\", \"course\": \"Web\"},\n",
    "    {\"name\": \"Donald\", \"course\": \"Web\"}\n",
    "]))\n",
    "\n",
    "print(instructorWithLongestName([\n",
    "    {\"name\": \"Matthew\", \"course\": \"Data\"},\n",
    "    {\"name\": \"David\", \"course\": \"iOS\"},\n",
    "    {\"name\": \"Damascus\", \"course\": \"Web\"}\n",
    "]))"
   ]
  },
  {
   "cell_type": "markdown",
   "id": "118e3310-76b2-4ae7-90b7-c5c047c4e000",
   "metadata": {},
   "source": [
    "***"
   ]
  },
  {
   "cell_type": "markdown",
   "id": "852a0ea3-79d7-4727-addc-ac2dff656c01",
   "metadata": {},
   "source": [
    "## Kata 5 - Percent Encoded String"
   ]
  },
  {
   "cell_type": "code",
   "execution_count": 85,
   "id": "eabb38a5-0b57-4030-92f8-2858c25f9999",
   "metadata": {},
   "outputs": [],
   "source": [
    "def urlEncode(text):\n",
    "    baseUrl = text.strip()\n",
    "    finishedUrl = \"\"\n",
    "    for letter in baseUrl:\n",
    "        if letter == \" \":\n",
    "            finishedUrl += \"%20\"\n",
    "        else:\n",
    "            finishedUrl += letter\n",
    "            \n",
    "    return finishedUrl"
   ]
  },
  {
   "cell_type": "code",
   "execution_count": 86,
   "id": "3c2a8e55-4827-4a99-8683-11d061322d47",
   "metadata": {},
   "outputs": [
    {
     "name": "stdout",
     "output_type": "stream",
     "text": [
      "Lighthouse%20Labs\n",
      "Lighthouse%20Labs\n",
      "blue%20is%20greener%20than%20purple%20for%20sure\n"
     ]
    }
   ],
   "source": [
    "print(urlEncode(\"Lighthouse Labs\"))\n",
    "print(urlEncode(\" Lighthouse Labs \"))\n",
    "print(urlEncode(\"blue is greener than purple for sure\"))"
   ]
  },
  {
   "cell_type": "markdown",
   "id": "2ad80703-5506-4804-8b41-d05bfa228c9b",
   "metadata": {},
   "source": [
    "***"
   ]
  },
  {
   "cell_type": "markdown",
   "id": "152138c8-d4b6-4da1-8896-17e7a2c4bef5",
   "metadata": {},
   "source": [
    "## Kata 6 - SmartParking"
   ]
  },
  {
   "cell_type": "code",
   "execution_count": 92,
   "id": "78e4b39f-bf63-49b1-8bc5-7a279199c0eb",
   "metadata": {},
   "outputs": [],
   "source": [
    "def whereCanIPark(spots, vehicle):\n",
    "    y = 0\n",
    "    for row in spots:\n",
    "        x = 0\n",
    "        for column in row:\n",
    "            parkingSpot = spots[y][x]\n",
    "            if vehicle == 'regular':\n",
    "                if parkingSpot == 'R':\n",
    "                    return [x, y]\n",
    "            elif vehicle == 'small':\n",
    "                if parkingSpot == 'R' or parkingSpot == 'S':\n",
    "                    return [x, y]\n",
    "            elif vehicle == 'motorcycle':\n",
    "                if parkingSpot == 'R' or parkingSpot == 'S' or parkingSpot == 'M':\n",
    "                    return [x, y]\n",
    "            x += 1\n",
    "        y += 1\n",
    "        \n",
    "    return False    "
   ]
  },
  {
   "cell_type": "code",
   "execution_count": 94,
   "id": "71458fac-86f2-43af-9107-8fa42eb82815",
   "metadata": {},
   "outputs": [
    {
     "name": "stdout",
     "output_type": "stream",
     "text": [
      "[4, 0]\n",
      "False\n",
      "[3, 1]\n"
     ]
    }
   ],
   "source": [
    "print(whereCanIPark(\n",
    "  [\n",
    "    # COLUMNS ARE X\n",
    "    # 0    1    2    3    4    5\n",
    "    ['s', 's', 's', 'S', 'R', 'M'], # 0 ROWS ARE Y\n",
    "    ['s', 'M', 's', 'S', 'r', 'M'], # 1\n",
    "    ['s', 'M', 's', 'S', 'r', 'm'], # 2\n",
    "    ['S', 'r', 's', 'm', 'r', 'M'], # 3\n",
    "    ['S', 'r', 's', 'm', 'r', 'M'], # 4\n",
    "    ['S', 'r', 'S', 'M', 'M', 'S']  # 5\n",
    "  ],\n",
    "  'regular'\n",
    "))\n",
    "\n",
    "print(whereCanIPark(\n",
    "  [\n",
    "    ['M', 'M', 'M', 'M'],\n",
    "    ['M', 's', 'M', 'M'],\n",
    "    ['M', 'M', 'M', 'M'],\n",
    "    ['M', 'M', 'r', 'M']\n",
    "  ],\n",
    "  'small'\n",
    "))\n",
    "\n",
    "print(whereCanIPark(\n",
    "  [\n",
    "    ['s', 's', 's', 's', 's', 's'],\n",
    "    ['s', 'm', 's', 'S', 'r', 's'],\n",
    "    ['s', 'm', 's', 'S', 'r', 's'],\n",
    "    ['S', 'r', 's', 'm', 'r', 's'],\n",
    "    ['S', 'r', 's', 'm', 'R', 's'],\n",
    "    ['S', 'r', 'S', 'M', 'm', 'S']\n",
    "  ],\n",
    "  'motorcycle'\n",
    "))"
   ]
  },
  {
   "cell_type": "markdown",
   "id": "8f9339db-0aaa-4ed0-aad4-336ae558ee47",
   "metadata": {},
   "source": [
    "***"
   ]
  },
  {
   "cell_type": "markdown",
   "id": "192ed4c7-aedb-40f5-bc26-67d02078a12a",
   "metadata": {},
   "source": [
    "## Kata 7 - In the Air Tonight"
   ]
  },
  {
   "cell_type": "code",
   "execution_count": 100,
   "id": "997ff5d9-b0ba-4553-8732-42203ba55766",
   "metadata": {},
   "outputs": [],
   "source": [
    "def checkAir(samples, threshold):\n",
    "    totalSamples = len(samples)\n",
    "    totalDirty = 0\n",
    "    for sample in samples:\n",
    "        if sample == 'dirty':\n",
    "            totalDirty += 1\n",
    "            \n",
    "    polutionLevel = totalDirty / totalSamples\n",
    "    if polutionLevel > threshold:\n",
    "        return \"Polluted\"\n",
    "    else:\n",
    "        return \"Clean\""
   ]
  },
  {
   "cell_type": "code",
   "execution_count": 101,
   "id": "f441d958-9c03-4d17-9a36-d5e880b307f6",
   "metadata": {},
   "outputs": [
    {
     "name": "stdout",
     "output_type": "stream",
     "text": [
      "Polluted\n",
      "Polluted\n",
      "Clean\n"
     ]
    }
   ],
   "source": [
    "print(checkAir(\n",
    "  ['clean', 'clean', 'dirty', 'clean', 'dirty', 'clean', 'clean', 'dirty', 'clean', 'dirty'],\n",
    "  0.3\n",
    "))\n",
    "\n",
    "print(checkAir(\n",
    "  ['dirty', 'dirty', 'dirty', 'dirty', 'clean'],\n",
    "  0.25\n",
    "))\n",
    "\n",
    "print(checkAir(\n",
    "  ['clean', 'dirty', 'clean', 'dirty', 'clean', 'dirty', 'clean'],\n",
    "  0.9\n",
    "))"
   ]
  },
  {
   "cell_type": "markdown",
   "id": "36bca53b-9423-4ec4-808a-8b910356300c",
   "metadata": {},
   "source": [
    "***"
   ]
  },
  {
   "cell_type": "code",
   "execution_count": null,
   "id": "7ae680ac-8b1b-47e2-b57c-ac4deed54320",
   "metadata": {},
   "outputs": [],
   "source": []
  }
 ],
 "metadata": {
  "kernelspec": {
   "display_name": "Python 3 (ipykernel)",
   "language": "python",
   "name": "python3"
  },
  "language_info": {
   "codemirror_mode": {
    "name": "ipython",
    "version": 3
   },
   "file_extension": ".py",
   "mimetype": "text/x-python",
   "name": "python",
   "nbconvert_exporter": "python",
   "pygments_lexer": "ipython3",
   "version": "3.8.12"
  }
 },
 "nbformat": 4,
 "nbformat_minor": 5
}
