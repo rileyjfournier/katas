{
 "cells": [
  {
   "cell_type": "markdown",
   "id": "0dc21930-e421-4e15-b01a-b3934e6022c4",
   "metadata": {
    "tags": []
   },
   "source": [
    "## Kata 1 - Sum the Largest Numbers"
   ]
  },
  {
   "cell_type": "code",
   "execution_count": 4,
   "id": "a8f63128-374b-4d35-b4fd-9e7b83e1ac3a",
   "metadata": {},
   "outputs": [],
   "source": [
    "def sumLargestNumbers(arr):\n",
    "    return sum(sorted(arr)[-2:])"
   ]
  },
  {
   "cell_type": "code",
   "execution_count": 5,
   "id": "6a56c213-d748-480d-855c-805a6846d1ad",
   "metadata": {},
   "outputs": [
    {
     "name": "stdout",
     "output_type": "stream",
     "text": [
      "11\n",
      "5\n",
      "126\n"
     ]
    }
   ],
   "source": [
    "print(sumLargestNumbers([1, 10]))\n",
    "print(sumLargestNumbers([1, 2, 3]))\n",
    "print(sumLargestNumbers([10, 4, 34, 6, 92, 2]))"
   ]
  },
  {
   "cell_type": "markdown",
   "id": "1f7edc10-b9c8-4015-a820-c4ddde17b3f6",
   "metadata": {},
   "source": [
    "***"
   ]
  },
  {
   "cell_type": "markdown",
   "id": "696917a1-e1ec-4741-b88d-bf9640df6dfe",
   "metadata": {},
   "source": [
    "## Kata 2 - Conditional Sums"
   ]
  },
  {
   "cell_type": "code",
   "execution_count": 12,
   "id": "1e2f72da-03c5-4f48-8aec-9f5586f12f83",
   "metadata": {},
   "outputs": [],
   "source": [
    "def conditionalSum(values, condition):\n",
    "    total = 0\n",
    "    if condition == \"even\":\n",
    "        for num in values:\n",
    "            if num % 2 == 0:\n",
    "                total += num\n",
    "    else:\n",
    "        for num in values:\n",
    "            if num % 2 != 0:\n",
    "                total += num\n",
    "    \n",
    "    return total        "
   ]
  },
  {
   "cell_type": "code",
   "execution_count": 13,
   "id": "57df34b4-aa27-40bf-8dd1-70e665b12eac",
   "metadata": {},
   "outputs": [
    {
     "name": "stdout",
     "output_type": "stream",
     "text": [
      "6\n",
      "9\n",
      "144\n",
      "0\n"
     ]
    }
   ],
   "source": [
    "print(conditionalSum([1,2,3,4,5], \"even\"))\n",
    "print(conditionalSum([1,2,3,4,5], \"odd\"))\n",
    "print(conditionalSum([13,88,12,44,99], \"even\"))\n",
    "print(conditionalSum([], \"odd\"))"
   ]
  },
  {
   "cell_type": "markdown",
   "id": "b8812886-b749-4be9-a047-44114ec7220a",
   "metadata": {},
   "source": [
    "***"
   ]
  },
  {
   "cell_type": "markdown",
   "id": "f3bef7f8-1188-4395-8114-3378b7bce83a",
   "metadata": {},
   "source": [
    "## Kata 3 - Vowels"
   ]
  },
  {
   "cell_type": "code",
   "execution_count": 19,
   "id": "ab3cf784-621c-4e5f-890d-19f9928f852a",
   "metadata": {},
   "outputs": [],
   "source": [
    "def numberOfVowels(data):\n",
    "    vowels = 'aeiou'\n",
    "    total = 0\n",
    "    for letter in data:\n",
    "        for vowel in vowels:\n",
    "            if vowel == letter:\n",
    "                total += 1\n",
    "                \n",
    "    return total"
   ]
  },
  {
   "cell_type": "code",
   "execution_count": 20,
   "id": "2828e503-a663-4c2b-89dc-dc844e92116a",
   "metadata": {},
   "outputs": [
    {
     "name": "stdout",
     "output_type": "stream",
     "text": [
      "3\n",
      "5\n",
      "5\n"
     ]
    }
   ],
   "source": [
    "print(numberOfVowels(\"orange\"))\n",
    "print(numberOfVowels(\"lighthouse labs\"))\n",
    "print(numberOfVowels(\"aeiou\"))"
   ]
  },
  {
   "cell_type": "markdown",
   "id": "baa7970c-3ae5-4f7e-8087-752f55092077",
   "metadata": {},
   "source": [
    "***"
   ]
  },
  {
   "cell_type": "markdown",
   "id": "1b1d4fc8-fb2b-4bac-94c4-5d95ed288565",
   "metadata": {},
   "source": [
    "## Kata 4 - Instructors Names"
   ]
  },
  {
   "cell_type": "code",
   "execution_count": 72,
   "id": "dc8c3472-9604-49a3-b271-3ae1528b519b",
   "metadata": {},
   "outputs": [],
   "source": [
    "def instructorWithLongestName(instructors):\n",
    "    longestName = instructors[0]\n",
    "    index = 0\n",
    "    for instructor in instructors:\n",
    "        if len(instructors[index][\"name\"]) > len(longestName[\"name\"]):\n",
    "            longestName = instructors[index]\n",
    "        index += 1\n",
    "            \n",
    "    return longestName"
   ]
  },
  {
   "cell_type": "code",
   "execution_count": 73,
   "id": "308b72a7-19c2-442c-a29d-d19a49722458",
   "metadata": {},
   "outputs": [
    {
     "name": "stdout",
     "output_type": "stream",
     "text": [
      "{'name': 'Jeremiah', 'course': 'Data'}\n",
      "{'name': 'Damascus', 'course': 'Web'}\n"
     ]
    }
   ],
   "source": [
    "print(instructorWithLongestName([\n",
    "    {\"name\": \"Samuel\", \"course\": \"iOS\"},\n",
    "    {\"name\": \"Jeremiah\", \"course\": \"Data\"},\n",
    "    {\"name\": \"Ophilia\", \"course\": \"Web\"},\n",
    "    {\"name\": \"Donald\", \"course\": \"Web\"}\n",
    "]))\n",
    "\n",
    "print(instructorWithLongestName([\n",
    "    {\"name\": \"Matthew\", \"course\": \"Data\"},\n",
    "    {\"name\": \"David\", \"course\": \"iOS\"},\n",
    "    {\"name\": \"Damascus\", \"course\": \"Web\"}\n",
    "]))"
   ]
  },
  {
   "cell_type": "markdown",
   "id": "118e3310-76b2-4ae7-90b7-c5c047c4e000",
   "metadata": {},
   "source": [
    "***"
   ]
  },
  {
   "cell_type": "markdown",
   "id": "852a0ea3-79d7-4727-addc-ac2dff656c01",
   "metadata": {},
   "source": [
    "## Kata 5"
   ]
  }
 ],
 "metadata": {
  "kernelspec": {
   "display_name": "Python 3 (ipykernel)",
   "language": "python",
   "name": "python3"
  },
  "language_info": {
   "codemirror_mode": {
    "name": "ipython",
    "version": 3
   },
   "file_extension": ".py",
   "mimetype": "text/x-python",
   "name": "python",
   "nbconvert_exporter": "python",
   "pygments_lexer": "ipython3",
   "version": "3.8.12"
  }
 },
 "nbformat": 4,
 "nbformat_minor": 5
}
