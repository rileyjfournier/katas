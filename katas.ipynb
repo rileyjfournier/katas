{
 "cells": [
  {
   "cell_type": "markdown",
   "id": "0dc21930-e421-4e15-b01a-b3934e6022c4",
   "metadata": {
    "tags": []
   },
   "source": [
    "## Kata 1 - Sum the Largest Numbers"
   ]
  },
  {
   "cell_type": "code",
   "execution_count": 4,
   "id": "a8f63128-374b-4d35-b4fd-9e7b83e1ac3a",
   "metadata": {},
   "outputs": [],
   "source": [
    "def sumLargestNumbers(arr):\n",
    "    return sum(sorted(arr)[-2:])"
   ]
  },
  {
   "cell_type": "code",
   "execution_count": 5,
   "id": "6a56c213-d748-480d-855c-805a6846d1ad",
   "metadata": {},
   "outputs": [
    {
     "name": "stdout",
     "output_type": "stream",
     "text": [
      "11\n",
      "5\n",
      "126\n"
     ]
    }
   ],
   "source": [
    "print(sumLargestNumbers([1, 10]))\n",
    "print(sumLargestNumbers([1, 2, 3]))\n",
    "print(sumLargestNumbers([10, 4, 34, 6, 92, 2]))"
   ]
  },
  {
   "cell_type": "markdown",
   "id": "1f7edc10-b9c8-4015-a820-c4ddde17b3f6",
   "metadata": {},
   "source": [
    "***"
   ]
  },
  {
   "cell_type": "markdown",
   "id": "696917a1-e1ec-4741-b88d-bf9640df6dfe",
   "metadata": {},
   "source": [
    "## Kata 2 - Conditional Sums"
   ]
  },
  {
   "cell_type": "code",
   "execution_count": null,
   "id": "1e2f72da-03c5-4f48-8aec-9f5586f12f83",
   "metadata": {},
   "outputs": [],
   "source": []
  }
 ],
 "metadata": {
  "kernelspec": {
   "display_name": "Python 3 (ipykernel)",
   "language": "python",
   "name": "python3"
  },
  "language_info": {
   "codemirror_mode": {
    "name": "ipython",
    "version": 3
   },
   "file_extension": ".py",
   "mimetype": "text/x-python",
   "name": "python",
   "nbconvert_exporter": "python",
   "pygments_lexer": "ipython3",
   "version": "3.8.12"
  }
 },
 "nbformat": 4,
 "nbformat_minor": 5
}
